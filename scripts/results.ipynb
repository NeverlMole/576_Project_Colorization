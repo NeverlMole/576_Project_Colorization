{
 "cells": [
  {
   "cell_type": "code",
   "execution_count": null,
   "id": "copyrighted-assault",
   "metadata": {},
   "outputs": [],
   "source": [
    "import matplotlib.pyplot as plt\n",
    "import matplotlib.image as mpimg\n",
    "import matplotlib.patches as patches\n",
    "from PIL import Image, ImageDraw, ImageColor\n",
    "import IPython.display as Ipd\n",
    "import subprocess\n",
    "\n",
    "import torch\n",
    "\n",
    "import sys\n",
    "sys.path.insert(1, '../data/')\n",
    "sys.path.insert(1, '../models/')\n",
    "\n",
    "import image_utils\n",
    "import model_helper"
   ]
  },
  {
   "cell_type": "code",
   "execution_count": null,
   "id": "e61a72bc",
   "metadata": {},
   "outputs": [],
   "source": [
    "# Deal valid data\n",
    "in_path = '../image_colored/F_pretrained_on_middle_9_coco_valid/'\n",
    "F_path = '../image_colored/F_pretrained_on_middle_9_coco_valid/'\n",
    "tg_path = '../image_colored/F_pretrained_on_middle_9_coco_valid/'\n",
    "H_path = '../image_colored/H_pretrained_lr1e3_coco_vali/'\n",
    "\n",
    "image_list = [8, 21, 81, 89, 294, 298, 375, 470, 498]\n",
    "\n",
    "tmp = Image.open(in_path + '0_i.jpg')\n",
    "w = tmp.width\n",
    "h = tmp.height\n",
    "w_b = 4\n",
    "h_b = 2\n",
    "\n",
    "# Draw in one graph\n",
    "dst = Image.new('RGB', (w * len(image_list) + w_b * (len(image_list) - 1) ,\n",
    "                        h * 4 + 3 * h_b), 'white')\n",
    "\n",
    "cnt = 0\n",
    "for num in image_list:\n",
    "    im1 = Image.open(in_path + str(num) + '_i.jpg')\n",
    "    im2 = Image.open(H_path + str(num) + '_o.jpg')\n",
    "    im3 = Image.open(F_path + str(num) + '_o.jpg')\n",
    "    im4 = Image.open(tg_path + str(num) + '_t.jpg')\n",
    "    dst.paste(im1, (cnt * w + cnt * w_b, 0))\n",
    "    dst.paste(im2, (cnt * w + cnt * w_b, h + h_b))\n",
    "    dst.paste(im3, (cnt * w + cnt * w_b, h * 2 + h_b * 2))\n",
    "    dst.paste(im4, (cnt * w + cnt * w_b, h * 3 + h_b * 3))\n",
    "    cnt += 1\n",
    "\n",
    "dst.save('res_valid.jpg')\n",
    "dst.show()"
   ]
  },
  {
   "cell_type": "code",
   "execution_count": null,
   "id": "ed1c966c",
   "metadata": {},
   "outputs": [],
   "source": [
    "# Deal real data\n",
    "img_real_path = '../test_img/img_real/'\n",
    "\n",
    "image_list = [0, 1, 2, 3]\n",
    "\n",
    "tmp = Image.open(in_path + '0_i.jpg')\n",
    "w = tmp.width\n",
    "h = tmp.height\n",
    "w_b = 4\n",
    "h_b = 2\n",
    "\n",
    "# Draw in one graph\n",
    "dst = Image.new('RGB', (w * len(image_list) + w_b * (len(image_list) - 1) ,\n",
    "                        h * 4 + 3 * h_b), 'white')\n",
    "\n",
    "cnt = 0\n",
    "for num in image_list:\n",
    "    im1 = Image.open(img_real_path + str(num) + '_i.jpg')\n",
    "    im2 = Image.open(img_real_path + str(num) + '_b.jpg')\n",
    "    im3 = Image.open(img_real_path + str(num) + '_f.jpg')\n",
    "    im4 = Image.open(img_real_path + str(num) + '_o.jpg')\n",
    "    dst.paste(im1, (cnt * w + cnt * w_b, 0))\n",
    "    dst.paste(im2, (cnt * w + cnt * w_b, h + h_b))\n",
    "    dst.paste(im3, (cnt * w + cnt * w_b, h * 2 + h_b * 2))\n",
    "    dst.paste(im4, (cnt * w + cnt * w_b, h * 3 + h_b * 3))\n",
    "    cnt += 1\n",
    "\n",
    "dst.save('res_real.jpg')\n",
    "dst.show()"
   ]
  },
  {
   "cell_type": "code",
   "execution_count": null,
   "id": "971dd37a",
   "metadata": {},
   "outputs": [],
   "source": []
  },
  {
   "cell_type": "code",
   "execution_count": null,
   "id": "5cf9f070",
   "metadata": {},
   "outputs": [],
   "source": []
  },
  {
   "cell_type": "code",
   "execution_count": null,
   "id": "1a8dded8",
   "metadata": {},
   "outputs": [],
   "source": []
  },
  {
   "cell_type": "code",
   "execution_count": null,
   "id": "603c6ca3",
   "metadata": {},
   "outputs": [],
   "source": []
  },
  {
   "cell_type": "code",
   "execution_count": null,
   "id": "b7bd68c6",
   "metadata": {},
   "outputs": [],
   "source": [
    "# Download Image\n",
    "img_path = '../test_img/img/0.jpg'\n",
    "\n",
    "img_url = 'https://www.mediastorehouse.com/p/164/young-people-grass-abbey-gardens-bury-st-19535149.jpg.webp'\n",
    "tmp = subprocess.call(['wget', '--output-document=' + img_path, img_url])\n",
    "\n",
    "# Resize the image so that it is not too large\n",
    "with Image.open(img_path) as im:\n",
    "    w, h = im.size[0], im.size[1]\n",
    "    if h > 1000:\n",
    "        w = int(w * 1000 / h)\n",
    "        im = im.resize((w, 1000), Image.ANTIALIAS)\n",
    "        im.save(img_path)\n",
    "        "
   ]
  },
  {
   "cell_type": "code",
   "execution_count": null,
   "id": "prepared-nursing",
   "metadata": {},
   "outputs": [],
   "source": [
    "# Load Image\n",
    "with Image.open(img_path) as im:\n",
    "    print('Size　%d * %d' % (im.size[0], im.size[1]))\n",
    "    im.show()"
   ]
  },
  {
   "cell_type": "code",
   "execution_count": null,
   "id": "republican-insight",
   "metadata": {},
   "outputs": [],
   "source": [
    "# Inference Box\n",
    "tmp = subprocess.call('../inference_box/infer_box_for_test.sh', shell=True)"
   ]
  },
  {
   "cell_type": "code",
   "execution_count": null,
   "id": "sustained-tonight",
   "metadata": {},
   "outputs": [],
   "source": [
    "# Read Inference Box\n",
    "box_path = '../test_img/img_bbox/0.npz'\n",
    "box_list = image_utils.get_bbx_fusion(box_path)\n",
    "\n",
    "with Image.open(img_path).convert(\"RGB\") as im:\n",
    "    draw = ImageDraw.Draw(im)\n",
    "    \n",
    "    colors = ['red','green','yellow','white', 'rgb(100, 200, 0)', 'rgb(100, 0, 200)',\n",
    "              'rgb(0, 100, 200)', 'rgb(150, 50, 0)']\n",
    "\n",
    "    print('Box_num:', len(box_list))\n",
    "    width = max(2, int(im.size[1] / 250))\n",
    "    for i in range(len(box_list)):\n",
    "        draw.rectangle([box_list[i][0], box_list[i][1],\n",
    "                        box_list[i][2], box_list[i][3]], outline=colors[i%8], width=width)\n",
    "\n",
    "    im.show()"
   ]
  },
  {
   "cell_type": "code",
   "execution_count": null,
   "id": "bright-parks",
   "metadata": {},
   "outputs": [],
   "source": [
    "# Load Model\n",
    "\n",
    "model_name = 'F_trained_on_large_from_pretrained_lr1e3_0'\n",
    "\n",
    "model, _ = model_helper.get_model(model_name)\n",
    "model = model.cuda()\n",
    "\n",
    "# Prepare data\n",
    "inputs, targets = image_utils.out_fusion_train_data(img_path, box_path)\n",
    "inputs = [inputs[0].cuda().unsqueeze(dim=0),\n",
    "          inputs[1].cuda().unsqueeze(dim=0),\n",
    "          {key:item.unsqueeze(dim=0) for key, item in inputs[2].items()}]\n",
    "targets = targets.cuda()\n"
   ]
  },
  {
   "cell_type": "code",
   "execution_count": null,
   "id": "optical-pocket",
   "metadata": {},
   "outputs": [],
   "source": [
    "def get_concat_h(im1, im2):\n",
    "    dst = Image.new('RGB', (im1.width + im2.width, im1.height))\n",
    "    dst.paste(im1, (0, 0))\n",
    "    dst.paste(im2, (im1.width, 0))\n",
    "    return dst\n",
    "\n",
    "def print_output(gray_channel, ab_channel):\n",
    "    tmp_res_path = '../test_img/results/'\n",
    "    gray_path = tmp_res_path + 'g.jpg'\n",
    "    color_path = tmp_res_path + 'c.jpg'\n",
    "    \n",
    "    t1 = torch.zeros_like(gray_channel)\n",
    "    t2 = torch.zeros_like(gray_channel)\n",
    "    gray_img = torch.cat((gray_channel, t1, t2), dim=0)\n",
    "    color_img = torch.cat((gray_channel, ab_channel), dim=0)\n",
    "    image_utils.save_image_from_tensor(gray_path, gray_img.cpu())\n",
    "    image_utils.save_image_from_tensor(color_path, color_img.cpu())\n",
    "\n",
    "    gray_mat = Image.open(gray_path)\n",
    "    color_mat = Image.open(color_path)\n",
    "    get_concat_h(gray_mat, color_mat).show()"
   ]
  },
  {
   "cell_type": "code",
   "execution_count": null,
   "id": "reflected-disney",
   "metadata": {},
   "outputs": [],
   "source": [
    "# Full image results\n",
    "model.set_no_fusion(True)\n",
    "\n",
    "outputs = model(inputs)\n",
    "print_output(inputs[0][0], outputs[0])\n",
    "\n",
    "model.set_no_fusion(False)"
   ]
  },
  {
   "cell_type": "code",
   "execution_count": null,
   "id": "invalid-arizona",
   "metadata": {},
   "outputs": [],
   "source": [
    "# Instances Results\n",
    "outputs = model.instance_outputs(inputs)\n",
    "\n",
    "for i in range(len(outputs)):\n",
    "    print_output(inputs[1][0, i: i+1, :, :], outputs[i])"
   ]
  },
  {
   "cell_type": "code",
   "execution_count": null,
   "id": "initial-southeast",
   "metadata": {},
   "outputs": [],
   "source": [
    "# Fusion results\n",
    "outputs = model(inputs)\n",
    "print_output(inputs[0][0], outputs[0])"
   ]
  },
  {
   "cell_type": "code",
   "execution_count": null,
   "id": "d5784e3d",
   "metadata": {},
   "outputs": [],
   "source": [
    "# Full_image model results\n",
    "\n",
    "model_name = 'H_pretrained_lr1e3'\n",
    "\n",
    "model, _ = model_helper.get_model(model_name)\n",
    "model = model.cuda()\n",
    "\n",
    "# Prepare data\n",
    "inputs, _ = image_utils.out_full_data(img_path)\n",
    "inputs = inputs.cuda().unsqueeze(dim=0)\n",
    "\n",
    "# Output\n",
    "outputs = model(inputs)\n",
    "print_output(inputs, outputs[0])"
   ]
  },
  {
   "cell_type": "code",
   "execution_count": null,
   "id": "excessive-opera",
   "metadata": {},
   "outputs": [],
   "source": [
    "# Thank you !"
   ]
  }
 ],
 "metadata": {
  "kernelspec": {
   "display_name": "Environment (conda_instacolorization)",
   "language": "python",
   "name": "conda_instacolorization"
  },
  "language_info": {
   "codemirror_mode": {
    "name": "ipython",
    "version": 3
   },
   "file_extension": ".py",
   "mimetype": "text/x-python",
   "name": "python",
   "nbconvert_exporter": "python",
   "pygments_lexer": "ipython3",
   "version": "3.7.6"
  }
 },
 "nbformat": 4,
 "nbformat_minor": 5
}
