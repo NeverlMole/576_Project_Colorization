{
 "cells": [
  {
   "cell_type": "code",
   "execution_count": null,
   "id": "copyrighted-assault",
   "metadata": {},
   "outputs": [],
   "source": [
    "import matplotlib.pyplot as plt\n",
    "import matplotlib.image as mpimg\n",
    "import matplotlib.patches as patches\n",
    "from PIL import Image, ImageDraw, ImageColor\n",
    "import IPython.display as Ipd\n",
    "import subprocess\n",
    "\n",
    "import torch\n",
    "\n",
    "import sys\n",
    "sys.path.insert(1, '../data/')\n",
    "sys.path.insert(1, '../models/')\n",
    "\n",
    "import image_utils\n",
    "import model_helper"
   ]
  },
  {
   "cell_type": "code",
   "execution_count": null,
   "id": "sublime-peripheral",
   "metadata": {},
   "outputs": [],
   "source": [
    "def print_img(img_path):\n",
    "    Ipd.display(Ipd.Image(img_path))"
   ]
  },
  {
   "cell_type": "code",
   "execution_count": null,
   "id": "prepared-nursing",
   "metadata": {},
   "outputs": [],
   "source": [
    "# Load Data\n",
    "img_path = '../test_img/img/0.jpg'\n",
    "\n",
    "print_img(img_path)"
   ]
  },
  {
   "cell_type": "code",
   "execution_count": null,
   "id": "republican-insight",
   "metadata": {},
   "outputs": [],
   "source": [
    "# Inference Box\n",
    "tmp = subprocess.call('../inference_box/infer_box_for_test.sh', shell=True)"
   ]
  },
  {
   "cell_type": "code",
   "execution_count": null,
   "id": "sustained-tonight",
   "metadata": {},
   "outputs": [],
   "source": [
    "# Read Inference Box\n",
    "box_path = '../test_img/img_bbox/0.npz'\n",
    "box_list = image_utils.get_bbx_fusion(box_path)\n",
    "\n",
    "with Image.open(img_path).convert(\"RGB\") as im:\n",
    "    draw = ImageDraw.Draw(im)\n",
    "    \n",
    "    colors = ['red','green','yellow','white', 'rgb(100, 200, 0)', 'rgb(100, 0, 200)',\n",
    "              'rgb(0, 100, 200)', 'rgb(150, 50, 0)']\n",
    "\n",
    "    for i in range(len(box_list)):\n",
    "        draw.rectangle([box_list[i][0], box_list[i][1],\n",
    "                        box_list[i][2], box_list[i][3]], outline=colors[i%8], width=2)\n",
    "\n",
    "    im.show()"
   ]
  },
  {
   "cell_type": "code",
   "execution_count": null,
   "id": "bright-parks",
   "metadata": {},
   "outputs": [],
   "source": [
    "# Load Model\n",
    "\n",
    "model_name = 'F_pretrained_on_small'\n",
    "\n",
    "model, _ = model_helper.get_model(model_name)\n",
    "model = model.cuda()\n",
    "\n",
    "# Prepare data\n",
    "inputs, targets = image_utils.out_fusion_train_data(img_path, box_path)\n",
    "inputs = [inputs[0].cuda().unsqueeze(dim=0),\n",
    "          inputs[1].cuda().unsqueeze(dim=0),\n",
    "          {key:item.unsqueeze(dim=0) for key, item in inputs[2].items()}]\n",
    "targets = targets.cuda()\n"
   ]
  },
  {
   "cell_type": "code",
   "execution_count": null,
   "id": "optical-pocket",
   "metadata": {},
   "outputs": [],
   "source": [
    "def print_output(gray_channel, ab_channel):\n",
    "    tmp_res_path = '../test_img/results/'\n",
    "    gray_path = tmp_res_path + 'g.jpg'\n",
    "    color_path = tmp_res_path + 'c.jpg'\n",
    "    \n",
    "    t1 = torch.zeros_like(gray_channel)\n",
    "    t2 = torch.zeros_like(gray_channel)\n",
    "    gray_img = torch.cat((gray_channel, t1, t2), dim=0)\n",
    "    color_img = torch.cat((gray_channel, ab_channel), dim=0)\n",
    "    image_utils.save_image_from_tensor(gray_path, gray_img.cpu())\n",
    "    image_utils.save_image_from_tensor(color_path, color_img.cpu())\n",
    "\n",
    "    fig, axs = plt.subplots(1, 2)\n",
    "    gray_mat = Image.open(gray_path)\n",
    "    axs[0].imshow(gray_mat)\n",
    "    color_mat = Image.open(color_path)\n",
    "    axs[1].imshow(color_mat)\n",
    "    plt.show()"
   ]
  },
  {
   "cell_type": "code",
   "execution_count": null,
   "id": "reflected-disney",
   "metadata": {},
   "outputs": [],
   "source": [
    "# Full image results\n",
    "model.set_no_fusion(True)\n",
    "\n",
    "outputs = model(inputs)\n",
    "print_output(inputs[0][0], outputs[0])\n",
    "\n",
    "model.set_no_fusion(False)"
   ]
  },
  {
   "cell_type": "code",
   "execution_count": null,
   "id": "invalid-arizona",
   "metadata": {},
   "outputs": [],
   "source": [
    "# Instances Results\n",
    "outputs = model.instance_outputs(inputs)\n",
    "\n",
    "for i in range(len(outputs)):\n",
    "    print_output(inputs[1][0, i: i+1, :, :], outputs[i])"
   ]
  },
  {
   "cell_type": "code",
   "execution_count": null,
   "id": "initial-southeast",
   "metadata": {},
   "outputs": [],
   "source": [
    "# Fusion results\n",
    "outputs = model(inputs)\n",
    "print_output(inputs[0][0], outputs[0])"
   ]
  },
  {
   "cell_type": "code",
   "execution_count": null,
   "id": "excessive-opera",
   "metadata": {},
   "outputs": [],
   "source": [
    "# Thank you !"
   ]
  }
 ],
 "metadata": {
  "kernelspec": {
   "display_name": "Environment (conda_instacolorization)",
   "language": "python",
   "name": "conda_instacolorization"
  },
  "language_info": {
   "codemirror_mode": {
    "name": "ipython",
    "version": 3
   },
   "file_extension": ".py",
   "mimetype": "text/x-python",
   "name": "python",
   "nbconvert_exporter": "python",
   "pygments_lexer": "ipython3",
   "version": "3.7.6"
  }
 },
 "nbformat": 4,
 "nbformat_minor": 5
}
